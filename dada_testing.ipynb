{
 "cells": [
  {
   "cell_type": "markdown",
   "metadata": {},
   "source": [
    "Expires: Tue, Feb 25th, 2025 @ 4:32pm (PT) in 5 hours and 49 minutes\n",
    "\n",
    "\n",
    "Rate Limits\n",
    "20 requests every 1 seconds(s)\n",
    "100 requests every 2 minutes(s)\n",
    "\n",
    "Note that rate limits are enforced per routing value (e.g., na1, euw1, americas)."
   ]
  },
  {
   "cell_type": "code",
   "execution_count": 15,
   "metadata": {},
   "outputs": [],
   "source": [
    "import requests"
   ]
  },
  {
   "cell_type": "code",
   "execution_count": 16,
   "metadata": {},
   "outputs": [],
   "source": [
    "### Importing Necessary LIbraries\n",
    "import requests\n",
    "import datetime\n",
    "import pdb\n"
   ]
  },
  {
   "cell_type": "code",
   "execution_count": null,
   "metadata": {},
   "outputs": [],
   "source": [
    "### API KEY & API URL \n",
    "api_key = '8aRGAPI-5e6934-6404-4ba9-8f35-4299a23a22ad'\n"
   ]
  },
  {
   "cell_type": "code",
   "execution_count": 29,
   "metadata": {},
   "outputs": [
    {
     "ename": "TypeError",
     "evalue": "'method' object is not subscriptable",
     "output_type": "error",
     "traceback": [
      "\u001b[1;31m---------------------------------------------------------------------------\u001b[0m",
      "\u001b[1;31mTypeError\u001b[0m                                 Traceback (most recent call last)",
      "Cell \u001b[1;32mIn[29], line 8\u001b[0m\n\u001b[0;32m      4\u001b[0m resp_account \u001b[38;5;241m=\u001b[39m requests\u001b[38;5;241m.\u001b[39mget(api_url_account)\n\u001b[0;32m      6\u001b[0m player_info \u001b[38;5;241m=\u001b[39m resp_account\u001b[38;5;241m.\u001b[39mjson\n\u001b[1;32m----> 8\u001b[0m player_puuid \u001b[38;5;241m=\u001b[39m \u001b[43mplayer_info\u001b[49m\u001b[43m[\u001b[49m\u001b[38;5;124;43m'\u001b[39;49m\u001b[38;5;124;43mpuuid\u001b[39;49m\u001b[38;5;124;43m'\u001b[39;49m\u001b[43m]\u001b[49m\n\u001b[0;32m     10\u001b[0m \u001b[38;5;28mprint\u001b[39m(f [api_url_account])\n",
      "\u001b[1;31mTypeError\u001b[0m: 'method' object is not subscriptable"
     ]
    }
   ],
   "source": [
    "### Get Response\n",
    "api_url_account = 'https://na1.api.riotgames.com/tft/summoner/v1/summoners/by-puuid/iofdQKuEwo0Wy6DR3qKeCR3xvVj-VcUT6qm3Q8vFSmqO4wkxiDNWqSGQza7nm-9iFKUydgIR807Lvg?api_key=RGAPI-58ae6934-6404-4ba9-8f35-4299a23a22ad'\n",
    "\n",
    "resp_account = requests.get(api_url_account)\n",
    "\n",
    "player_info = resp_account.json\n",
    "\n",
    "player_puuid = player_info['puuid']\n",
    "\n",
    "print(f [api_url_account])\n"
   ]
  }
 ],
 "metadata": {
  "kernelspec": {
   "display_name": "Python 3",
   "language": "python",
   "name": "python3"
  },
  "language_info": {
   "codemirror_mode": {
    "name": "ipython",
    "version": 3
   },
   "file_extension": ".py",
   "mimetype": "text/x-python",
   "name": "python",
   "nbconvert_exporter": "python",
   "pygments_lexer": "ipython3",
   "version": "3.13.2"
  }
 },
 "nbformat": 4,
 "nbformat_minor": 2
}
